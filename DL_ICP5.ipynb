{
  "nbformat": 4,
  "nbformat_minor": 0,
  "metadata": {
    "colab": {
      "name": "DL_ICP5.ipynb",
      "provenance": [],
      "include_colab_link": true
    },
    "kernelspec": {
      "name": "python3",
      "display_name": "Python 3"
    },
    "accelerator": "GPU"
  },
  "cells": [
    {
      "cell_type": "markdown",
      "metadata": {
        "id": "view-in-github",
        "colab_type": "text"
      },
      "source": [
        "<a href=\"https://colab.research.google.com/github/thotla-vandith/DL-Lesson5/blob/master/DL_ICP5.ipynb\" target=\"_parent\"><img src=\"https://colab.research.google.com/assets/colab-badge.svg\" alt=\"Open In Colab\"/></a>"
      ]
    },
    {
      "cell_type": "code",
      "metadata": {
        "id": "u70o2knoVDtt",
        "colab_type": "code",
        "colab": {}
      },
      "source": [
        "import pandas as pd \n",
        "# data processing, CSV file I/O (e.g. pd.read_csv)\n",
        "from keras.preprocessing.text import Tokenizer\n",
        "from keras.preprocessing.sequence import pad_sequences\n",
        "from keras.models import Sequential\n",
        "from keras.layers import Dense, Embedding, LSTM, SpatialDropout1D\n",
        "from matplotlib import pyplot\n",
        "from sklearn.model_selection import train_test_split\n",
        "from keras.utils.np_utils import to_categorical\n",
        "import re\n",
        "from sklearn.preprocessing import LabelEncoder"
      ],
      "execution_count": 0,
      "outputs": []
    },
    {
      "cell_type": "code",
      "metadata": {
        "id": "m4ZEx3Bcd5kq",
        "colab_type": "code",
        "colab": {
          "base_uri": "https://localhost:8080/",
          "height": 33
        },
        "outputId": "1e42576b-8f2d-462b-d2a2-0a90b89a3338"
      },
      "source": [
        "from google.colab import drive\n",
        "drive.mount('/content/drive')"
      ],
      "execution_count": 19,
      "outputs": [
        {
          "output_type": "stream",
          "text": [
            "Drive already mounted at /content/drive; to attempt to forcibly remount, call drive.mount(\"/content/drive\", force_remount=True).\n"
          ],
          "name": "stdout"
        }
      ]
    },
    {
      "cell_type": "code",
      "metadata": {
        "id": "ZVtPfKcXVKfy",
        "colab_type": "code",
        "colab": {}
      },
      "source": [
        "data = pd.read_csv('drive/My Drive/Python Colab/DL_Lesson5/Sentiment.csv')\n",
        "# Keeping only the neccessary columns\n",
        "data = data[['text','sentiment']]"
      ],
      "execution_count": 0,
      "outputs": []
    },
    {
      "cell_type": "code",
      "metadata": {
        "id": "QZjgo8n7VQA1",
        "colab_type": "code",
        "colab": {}
      },
      "source": [
        "data['text'] = data['text'].apply(lambda x: x.lower())\n",
        "data['text'] = data['text'].apply((lambda x: re.sub('[^a-zA-z0-9\\s]', '', x)))"
      ],
      "execution_count": 0,
      "outputs": []
    },
    {
      "cell_type": "code",
      "metadata": {
        "id": "GvzWGl1rVRZY",
        "colab_type": "code",
        "colab": {}
      },
      "source": [
        "for idx, row in data.iterrows():\n",
        "    row[0] = row[0].replace('rt', ' ')"
      ],
      "execution_count": 0,
      "outputs": []
    },
    {
      "cell_type": "code",
      "metadata": {
        "id": "rcn-Si3-VTMZ",
        "colab_type": "code",
        "colab": {}
      },
      "source": [
        "max_fatures = 2000\n",
        "tokenizer = Tokenizer(num_words=max_fatures, split=' ')\n",
        "tokenizer.fit_on_texts(data['text'].values)\n",
        "X = tokenizer.texts_to_sequences(data['text'].values)\n",
        "\n",
        "X = pad_sequences(X)"
      ],
      "execution_count": 0,
      "outputs": []
    },
    {
      "cell_type": "code",
      "metadata": {
        "id": "t8b9O4zfVU0f",
        "colab_type": "code",
        "colab": {}
      },
      "source": [
        "def createmodel():\n",
        "    model = Sequential()\n",
        "    lstm_out=196\n",
        "    embed_dim=128\n",
        "    model.add(Embedding(max_fatures, embed_dim,input_length = X.shape[1]))\n",
        "    model.add(LSTM(lstm_out, dropout=0.2, recurrent_dropout=0.2))\n",
        "    model.add(Dense(3,activation='softmax'))\n",
        "    model.compile(loss = 'categorical_crossentropy', optimizer='adam',metrics = ['accuracy'])\n",
        "    return model\n",
        "    #print(model.summary())"
      ],
      "execution_count": 0,
      "outputs": []
    },
    {
      "cell_type": "code",
      "metadata": {
        "id": "dKOVUeyJVWcZ",
        "colab_type": "code",
        "outputId": "f44edc55-5053-4249-89b2-042320db7d4a",
        "colab": {
          "base_uri": "https://localhost:8080/",
          "height": 228
        }
      },
      "source": [
        "labelencoder = LabelEncoder()\n",
        "integer_encoded = labelencoder.fit_transform(data['sentiment'])\n",
        "print(integer_encoded)\n",
        "print(data['sentiment'])\n",
        "y = to_categorical(integer_encoded)\n",
        "X_train, X_test, Y_train, Y_test = train_test_split(X,y, test_size = 0.33, random_state = 42)"
      ],
      "execution_count": 25,
      "outputs": [
        {
          "output_type": "stream",
          "text": [
            "[1 2 1 ... 2 0 2]\n",
            "0         Neutral\n",
            "1        Positive\n",
            "2         Neutral\n",
            "3        Positive\n",
            "4        Positive\n",
            "           ...   \n",
            "13866    Negative\n",
            "13867    Positive\n",
            "13868    Positive\n",
            "13869    Negative\n",
            "13870    Positive\n",
            "Name: sentiment, Length: 13871, dtype: object\n"
          ],
          "name": "stdout"
        }
      ]
    },
    {
      "cell_type": "code",
      "metadata": {
        "id": "_gyUU0LtVYIC",
        "colab_type": "code",
        "outputId": "a8882325-2eef-4d63-a25a-aa8c10c421a9",
        "colab": {
          "base_uri": "https://localhost:8080/",
          "height": 768
        }
      },
      "source": [
        "batch_size = 32\n",
        "model = createmodel()\n",
        "model.fit(X_train, Y_train, epochs = 20, batch_size=batch_size, verbose = 2)\n",
        "score,acc = model.evaluate(X_test,Y_test,verbose=2,batch_size=batch_size)\n",
        "print('score',score)\n",
        "print('accuracy',acc)\n",
        "print('Model Metrics Names',model.metrics_names)"
      ],
      "execution_count": 26,
      "outputs": [
        {
          "output_type": "stream",
          "text": [
            "/usr/local/lib/python3.6/dist-packages/tensorflow/python/framework/indexed_slices.py:434: UserWarning: Converting sparse IndexedSlices to a dense Tensor of unknown shape. This may consume a large amount of memory.\n",
            "  \"Converting sparse IndexedSlices to a dense Tensor of unknown shape. \"\n"
          ],
          "name": "stderr"
        },
        {
          "output_type": "stream",
          "text": [
            "Epoch 1/20\n",
            " - 17s - loss: 0.8293 - accuracy: 0.6446\n",
            "Epoch 2/20\n",
            " - 16s - loss: 0.6817 - accuracy: 0.7123\n",
            "Epoch 3/20\n",
            " - 17s - loss: 0.6191 - accuracy: 0.7397\n",
            "Epoch 4/20\n",
            " - 17s - loss: 0.5728 - accuracy: 0.7586\n",
            "Epoch 5/20\n",
            " - 17s - loss: 0.5320 - accuracy: 0.7817\n",
            "Epoch 6/20\n",
            " - 17s - loss: 0.4972 - accuracy: 0.7968\n",
            "Epoch 7/20\n",
            " - 16s - loss: 0.4601 - accuracy: 0.8114\n",
            "Epoch 8/20\n",
            " - 17s - loss: 0.4333 - accuracy: 0.8221\n",
            "Epoch 9/20\n",
            " - 17s - loss: 0.3980 - accuracy: 0.8390\n",
            "Epoch 10/20\n",
            " - 17s - loss: 0.3764 - accuracy: 0.8497\n",
            "Epoch 11/20\n",
            " - 17s - loss: 0.3504 - accuracy: 0.8585\n",
            "Epoch 12/20\n",
            " - 16s - loss: 0.3328 - accuracy: 0.8660\n",
            "Epoch 13/20\n",
            " - 17s - loss: 0.3115 - accuracy: 0.8763\n",
            "Epoch 14/20\n",
            " - 17s - loss: 0.3051 - accuracy: 0.8771\n",
            "Epoch 15/20\n",
            " - 17s - loss: 0.2877 - accuracy: 0.8859\n",
            "Epoch 16/20\n",
            " - 17s - loss: 0.2709 - accuracy: 0.8922\n",
            "Epoch 17/20\n",
            " - 16s - loss: 0.2595 - accuracy: 0.8953\n",
            "Epoch 18/20\n",
            " - 17s - loss: 0.2544 - accuracy: 0.8958\n",
            "Epoch 19/20\n",
            " - 17s - loss: 0.2406 - accuracy: 0.9006\n",
            "Epoch 20/20\n",
            " - 17s - loss: 0.2362 - accuracy: 0.9032\n",
            "score 1.813573265763129\n",
            "accuracy 0.6310616135597229\n",
            "Model Metrics Names ['loss', 'accuracy']\n"
          ],
          "name": "stdout"
        }
      ]
    },
    {
      "cell_type": "markdown",
      "metadata": {
        "id": "j-NvmI4rm_jQ",
        "colab_type": "text"
      },
      "source": [
        "#### 1. Save the model and use the saved model to predict on new text data."
      ]
    },
    {
      "cell_type": "code",
      "metadata": {
        "id": "YTBxZoWlRO1W",
        "colab_type": "code",
        "colab": {}
      },
      "source": [
        "model.save('Vandith.h5')"
      ],
      "execution_count": 0,
      "outputs": []
    },
    {
      "cell_type": "code",
      "metadata": {
        "id": "ZbxEtWFIRXTt",
        "colab_type": "code",
        "outputId": "7fc868d5-b51a-4bd4-cd4f-3407145e1062",
        "colab": {
          "base_uri": "https://localhost:8080/",
          "height": 70
        }
      },
      "source": [
        "from keras.models import load_model\n",
        "model= load_model('Vandith.h5')"
      ],
      "execution_count": 28,
      "outputs": [
        {
          "output_type": "stream",
          "text": [
            "/usr/local/lib/python3.6/dist-packages/tensorflow/python/framework/indexed_slices.py:434: UserWarning: Converting sparse IndexedSlices to a dense Tensor of unknown shape. This may consume a large amount of memory.\n",
            "  \"Converting sparse IndexedSlices to a dense Tensor of unknown shape. \"\n"
          ],
          "name": "stderr"
        }
      ]
    },
    {
      "cell_type": "code",
      "metadata": {
        "id": "tx6bwPb-ZBVO",
        "colab_type": "code",
        "outputId": "008007c4-0c14-4eef-8ccd-0652de09d143",
        "colab": {
          "base_uri": "https://localhost:8080/",
          "height": 50
        }
      },
      "source": [
        "import numpy as np\n",
        "sentence = ['A lot of good things are happening. We are respected again throughout the world, and that is a great thing']\n",
        "#vectorizing the tweet by the pre-fitted tokenizer instance\n",
        "sentence = tokenizer.texts_to_sequences(sentence)\n",
        "#padding the tweet to have exactly the same shape as `embedding_2` input\n",
        "sentence = pad_sequences(sentence, maxlen=28, dtype='int32', value=0)\n",
        "sentiment = model.predict_classes(sentence,batch_size=1,verbose = 2)[0]\n",
        "print(sentiment)\n",
        "if sentiment == 1:\n",
        "  print(\"Neutral\")\n",
        "elif sentiment == 0:\n",
        "  print(\"Negative\")\n",
        "elif sentiment == 2:\n",
        "  print(\"Positive\")\n",
        "else:\n",
        "  print(\"Can not be determined\")"
      ],
      "execution_count": 29,
      "outputs": [
        {
          "output_type": "stream",
          "text": [
            "2\n",
            "Positive\n"
          ],
          "name": "stdout"
        }
      ]
    },
    {
      "cell_type": "markdown",
      "metadata": {
        "id": "2JaMYmEWRkNF",
        "colab_type": "text"
      },
      "source": [
        "#### 2. Apply GridSearchCV on the source code provided in the class"
      ]
    },
    {
      "cell_type": "code",
      "metadata": {
        "id": "Nw5pyR8QIjum",
        "colab_type": "code",
        "outputId": "41b35f21-d311-4970-fb9b-0b7f8ec985f0",
        "colab": {
          "base_uri": "https://localhost:8080/",
          "height": 1000
        }
      },
      "source": [
        "from keras.wrappers.scikit_learn import KerasClassifier\n",
        "model = KerasClassifier(build_fn=createmodel,verbose=2)\n",
        "batch_size= [10, 20]\n",
        "epochs = [1, 2]\n",
        "param_grid= {'batch_size':batch_size, 'epochs':epochs}\n",
        "from sklearn.model_selection import GridSearchCV\n",
        "grid  = GridSearchCV(estimator=model, param_grid=param_grid)\n",
        "grid_result= grid.fit(X_train, y=Y_train)\n",
        "# summarize results\n",
        "print(\"Best: %f using %s\" % (grid_result.best_score_, grid_result.best_params_))"
      ],
      "execution_count": 30,
      "outputs": [
        {
          "output_type": "stream",
          "text": [
            "/usr/local/lib/python3.6/dist-packages/tensorflow/python/framework/indexed_slices.py:434: UserWarning: Converting sparse IndexedSlices to a dense Tensor of unknown shape. This may consume a large amount of memory.\n",
            "  \"Converting sparse IndexedSlices to a dense Tensor of unknown shape. \"\n"
          ],
          "name": "stderr"
        },
        {
          "output_type": "stream",
          "text": [
            "Epoch 1/1\n",
            " - 42s - loss: 0.8311 - accuracy: 0.6489\n",
            "Epoch 1/1\n",
            " - 42s - loss: 0.8233 - accuracy: 0.6488\n",
            "Epoch 1/1\n",
            " - 43s - loss: 0.8335 - accuracy: 0.6394\n",
            "Epoch 1/1\n",
            " - 42s - loss: 0.8317 - accuracy: 0.6417\n",
            "Epoch 1/1\n",
            " - 42s - loss: 0.8282 - accuracy: 0.6457\n",
            "Epoch 1/2\n",
            " - 42s - loss: 0.8316 - accuracy: 0.6437\n",
            "Epoch 2/2\n",
            " - 41s - loss: 0.6928 - accuracy: 0.7061\n",
            "Epoch 1/2\n",
            " - 43s - loss: 0.8227 - accuracy: 0.6523\n",
            "Epoch 2/2\n",
            " - 43s - loss: 0.6882 - accuracy: 0.7097\n",
            "Epoch 1/2\n",
            " - 42s - loss: 0.8283 - accuracy: 0.6447\n",
            "Epoch 2/2\n",
            " - 42s - loss: 0.6779 - accuracy: 0.7162\n",
            "Epoch 1/2\n",
            " - 42s - loss: 0.8285 - accuracy: 0.6398\n",
            "Epoch 2/2\n",
            " - 41s - loss: 0.6822 - accuracy: 0.7088\n",
            "Epoch 1/2\n",
            " - 43s - loss: 0.8239 - accuracy: 0.6449\n",
            "Epoch 2/2\n",
            " - 42s - loss: 0.6749 - accuracy: 0.7176\n",
            "Epoch 1/1\n",
            " - 21s - loss: 0.8380 - accuracy: 0.6365\n",
            "Epoch 1/1\n",
            " - 21s - loss: 0.8285 - accuracy: 0.6433\n",
            "Epoch 1/1\n",
            " - 21s - loss: 0.8344 - accuracy: 0.6438\n",
            "Epoch 1/1\n",
            " - 21s - loss: 0.8362 - accuracy: 0.6360\n",
            "Epoch 1/1\n",
            " - 21s - loss: 0.8341 - accuracy: 0.6416\n",
            "Epoch 1/2\n",
            " - 21s - loss: 0.8351 - accuracy: 0.6430\n",
            "Epoch 2/2\n",
            " - 21s - loss: 0.6881 - accuracy: 0.7054\n",
            "Epoch 1/2\n",
            " - 21s - loss: 0.8313 - accuracy: 0.6442\n",
            "Epoch 2/2\n",
            " - 21s - loss: 0.6882 - accuracy: 0.7057\n",
            "Epoch 1/2\n",
            " - 21s - loss: 0.8410 - accuracy: 0.6381\n",
            "Epoch 2/2\n",
            " - 21s - loss: 0.6862 - accuracy: 0.7072\n",
            "Epoch 1/2\n",
            " - 21s - loss: 0.8416 - accuracy: 0.6426\n",
            "Epoch 2/2\n",
            " - 21s - loss: 0.6876 - accuracy: 0.7081\n",
            "Epoch 1/2\n",
            " - 21s - loss: 0.8372 - accuracy: 0.6432\n",
            "Epoch 2/2\n",
            " - 21s - loss: 0.6752 - accuracy: 0.7124\n",
            "Epoch 1/2\n",
            " - 26s - loss: 0.8231 - accuracy: 0.6491\n",
            "Epoch 2/2\n",
            " - 26s - loss: 0.6818 - accuracy: 0.7071\n",
            "Best: 0.676100 using {'batch_size': 20, 'epochs': 2}\n"
          ],
          "name": "stdout"
        }
      ]
    },
    {
      "cell_type": "markdown",
      "metadata": {
        "id": "cjxLFuxmRaQr",
        "colab_type": "text"
      },
      "source": [
        "#### 3. Apply the code on spamdata set availablein thesourcecode (text classification on the spam.csvdata set)"
      ]
    },
    {
      "cell_type": "code",
      "metadata": {
        "id": "_jGfuqbOQGgM",
        "colab_type": "code",
        "colab": {}
      },
      "source": [
        "data1 = pd.read_csv('drive/My Drive/Python Colab/DL_Lesson5/spam.csv',encoding=\"ISO-8859-1\")\n",
        "\n",
        "# Keeping only the neccessary columns\n",
        "data1 = data1[['v1','v2']]"
      ],
      "execution_count": 0,
      "outputs": []
    },
    {
      "cell_type": "code",
      "metadata": {
        "id": "KlWtquHVQH7a",
        "colab_type": "code",
        "colab": {}
      },
      "source": [
        "data1['v2'] = data1['v2'].apply(lambda x: x.lower())\n",
        "data1['v2'] = data1['v2'].apply((lambda x: re.sub('[^a-zA-z0-9\\s]', '', x)))"
      ],
      "execution_count": 0,
      "outputs": []
    },
    {
      "cell_type": "code",
      "metadata": {
        "id": "RmoLWndiQevg",
        "colab_type": "code",
        "colab": {}
      },
      "source": [
        "for idx, row in data1.iterrows():\n",
        "    row[0] = row[0].replace('rt', ' ')"
      ],
      "execution_count": 0,
      "outputs": []
    },
    {
      "cell_type": "code",
      "metadata": {
        "id": "NxlwWkL6QmeF",
        "colab_type": "code",
        "colab": {}
      },
      "source": [
        "max_fatures = 2000\n",
        "tokenizer = Tokenizer(num_words=max_fatures, split=' ')\n",
        "tokenizer.fit_on_texts(data1['v2'].values)\n",
        "X = tokenizer.texts_to_sequences(data1['v2'].values)\n",
        "\n",
        "X = pad_sequences(X)"
      ],
      "execution_count": 0,
      "outputs": []
    },
    {
      "cell_type": "code",
      "metadata": {
        "id": "YhV6JOmPQsKA",
        "colab_type": "code",
        "colab": {}
      },
      "source": [
        "labelencoder = LabelEncoder()\n",
        "integer_encoded = labelencoder.fit_transform(data1['v1'])\n",
        "y = to_categorical(integer_encoded)\n",
        "X_train, X_test, Y_train, Y_test = train_test_split(X,y, test_size = 0.33, random_state = 42)"
      ],
      "execution_count": 0,
      "outputs": []
    },
    {
      "cell_type": "code",
      "metadata": {
        "id": "BAzB9Oo9QuhF",
        "colab_type": "code",
        "colab": {}
      },
      "source": [
        "def createmodel1():\n",
        "  embed_dim=128\n",
        "  lstm_out=196\n",
        "  model = Sequential()\n",
        "  model.add(Embedding(max_fatures, embed_dim,input_length = X.shape[1]))\n",
        "  model.add(LSTM(lstm_out, dropout=0.2, recurrent_dropout=0.2))\n",
        "  model.add(Dense(2,activation='sigmoid'))\n",
        "  model.compile(loss = 'categorical_crossentropy', optimizer='adam',metrics = ['accuracy'])\n",
        "  return model"
      ],
      "execution_count": 0,
      "outputs": []
    },
    {
      "cell_type": "code",
      "metadata": {
        "id": "gOwUj517Qwu9",
        "colab_type": "code",
        "outputId": "1ce4328b-8cd3-4f2c-962e-f0b4ec9475b5",
        "colab": {
          "base_uri": "https://localhost:8080/",
          "height": 281
        }
      },
      "source": [
        "batch_size = 32\n",
        "model1 = createmodel1()\n",
        "model1.fit(X_train, Y_train, epochs = 5, batch_size=batch_size, verbose = 2)\n",
        "score,acc = model1.evaluate(X_test,Y_test,verbose=2,batch_size=batch_size)\n",
        "print(score)\n",
        "print(acc)\n",
        "print(model1.metrics_names)"
      ],
      "execution_count": 46,
      "outputs": [
        {
          "output_type": "stream",
          "text": [
            "/usr/local/lib/python3.6/dist-packages/tensorflow/python/framework/indexed_slices.py:434: UserWarning: Converting sparse IndexedSlices to a dense Tensor of unknown shape. This may consume a large amount of memory.\n",
            "  \"Converting sparse IndexedSlices to a dense Tensor of unknown shape. \"\n"
          ],
          "name": "stderr"
        },
        {
          "output_type": "stream",
          "text": [
            "Epoch 1/5\n",
            " - 32s - loss: 0.1901 - accuracy: 0.9362\n",
            "Epoch 2/5\n",
            " - 32s - loss: 0.0452 - accuracy: 0.9869\n",
            "Epoch 3/5\n",
            " - 32s - loss: 0.0254 - accuracy: 0.9920\n",
            "Epoch 4/5\n",
            " - 32s - loss: 0.0132 - accuracy: 0.9965\n",
            "Epoch 5/5\n",
            " - 32s - loss: 0.0082 - accuracy: 0.9973\n",
            "0.07656967166336198\n",
            "0.9820554852485657\n",
            "['loss', 'accuracy']\n"
          ],
          "name": "stdout"
        }
      ]
    }
  ]
}